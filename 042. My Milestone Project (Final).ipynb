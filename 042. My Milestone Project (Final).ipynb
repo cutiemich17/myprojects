{
 "cells": [
  {
   "cell_type": "code",
   "execution_count": 77,
   "metadata": {},
   "outputs": [],
   "source": [
    "from IPython.display import clear_output\n",
    "\n",
    "def display_board(board):\n",
    "    clear_output()\n",
    "    print(board[7]+'|'+board[8]+'|'+board[9])\n",
    "    print('-----')\n",
    "    print(board[4]+'|'+board[5]+'|'+board[6])\n",
    "    print('-----')\n",
    "    print(board[1]+'|'+board[2]+'|'+board[3])"
   ]
  },
  {
   "cell_type": "code",
   "execution_count": 3,
   "metadata": {},
   "outputs": [
    {
     "name": "stdout",
     "output_type": "stream",
     "text": [
      "X|O|X\n",
      "-----\n",
      "O|X|O\n",
      "-----\n",
      "X|O|X\n"
     ]
    }
   ],
   "source": [
    "test_board = ['#','X','O','X','O','X','O','X','O','X']\n",
    "display_board(test_board)"
   ]
  },
  {
   "cell_type": "code",
   "execution_count": 46,
   "metadata": {},
   "outputs": [],
   "source": [
    "def player_input():\n",
    "    \n",
    "    player1 = ''\n",
    "    player2 = ''\n",
    "    \n",
    "    name1 = ''\n",
    "    name2 = ''\n",
    "    \n",
    "    name1 = input(\"Hello Player 1, what is your name? \")\n",
    "    \n",
    "    name2 = input(\"Hey Player 2, what shall I call you? \")\n",
    "    \n",
    "    while player1 not in ['X','O']:\n",
    "        \n",
    "        player1 = input(f\"Hey {name1}, Please choose either X or O \")\n",
    "    \n",
    "    if player1 == 'X':\n",
    "        print(f\"{name1}: Your marker will be X\")\n",
    "        player2 = 'O'\n",
    "        print(f\"{name2}: Your marker will be O\")\n",
    "        \n",
    "    else:\n",
    "        player2 = 'X'\n",
    "        print(f\"{name1}: Your marker will be O\")\n",
    "        print(f\"{name2}: Your marker will be X\")\n",
    "        \n",
    "    return player1,player2,name1,name2"
   ]
  },
  {
   "cell_type": "code",
   "execution_count": 5,
   "metadata": {},
   "outputs": [],
   "source": [
    "def place_marker(board, marker, position):\n",
    "    \n",
    "    board[position] = marker\n",
    "    \n",
    "    return board"
   ]
  },
  {
   "cell_type": "code",
   "execution_count": 6,
   "metadata": {},
   "outputs": [],
   "source": [
    "def win_check(board, mark):\n",
    "    \n",
    "    if board[1] == board[2] == board[3] == mark:\n",
    "        return True\n",
    "    elif board[4] == board[5] == board[6] == mark:\n",
    "        return True\n",
    "    elif board[1] == board[4] == board[7] == mark:\n",
    "        return True\n",
    "    elif board[2] == board[5] == board[8] == mark:\n",
    "        return True\n",
    "    elif board[3] == board[6] == board[9] == mark:\n",
    "        return True\n",
    "    elif board[7] == board[8] == board[9] == mark:\n",
    "        return True\n",
    "    elif board[1] == board[5] == board[9] == mark:\n",
    "        return True\n",
    "    elif board[3] == board[5] == board[7] == mark:\n",
    "        return True\n",
    "    else:\n",
    "        return False"
   ]
  },
  {
   "cell_type": "code",
   "execution_count": 71,
   "metadata": {},
   "outputs": [],
   "source": [
    "def space_check(board, position):\n",
    "    \n",
    "    return board[position] == ' '"
   ]
  },
  {
   "cell_type": "code",
   "execution_count": 72,
   "metadata": {},
   "outputs": [],
   "source": [
    "def player_choice(board):\n",
    "    \n",
    "    acceptable_range = ['1','2','3','4','5','6','7','8','9']\n",
    "    \n",
    "    player_input = 'wrong'\n",
    "    \n",
    "    while player_input not in acceptable_range:\n",
    "        player_input = input(\"Please choose a position (1-9): \")\n",
    "        \n",
    "        if player_input not in acceptable_range:\n",
    "            print(\"Please choose a number between 1 and 9\")\n",
    "    \n",
    "    return int(player_input)"
   ]
  },
  {
   "cell_type": "code",
   "execution_count": 73,
   "metadata": {},
   "outputs": [],
   "source": [
    "def replay():\n",
    "    \n",
    "    # original value is neither Y or N\n",
    "    replay = 'wrong'\n",
    "    \n",
    "    # while the choice is not Y or N - keep asking\n",
    "    while replay not in ['Yes','No']:\n",
    "        \n",
    "        # should not convert - error for wrong input\n",
    "        replay = input(\"Would you like to keep playing? Yes or No? \")\n",
    "        \n",
    "        if replay not in ['Yes','No']:\n",
    "            print(\"Sorry, please choose Yes or No. \")\n",
    "            \n",
    "    if replay == 'Yes':\n",
    "        # game still on\n",
    "        return True\n",
    "    else:\n",
    "        return False # game over"
   ]
  },
  {
   "cell_type": "code",
   "execution_count": 36,
   "metadata": {},
   "outputs": [],
   "source": [
    "# I don't know if this is correct - left it out of my final code\n",
    "\n",
    "#def full_board_check(board):\n",
    "    \n",
    "    #for item in board:\n",
    "        #if item != '':\n",
    "            #return True\n",
    "        #elif item == '':\n",
    "            #return False\n",
    "        #else:\n",
    "            #pass\n",
    "\n",
    "# what about:\n",
    "\n",
    "def full_board_check(board):\n",
    "    for i in range(1,10):\n",
    "        # we use space check function\n",
    "        if space_check(board, i):\n",
    "            return False\n",
    "        # board is full if True...\n",
    "    return True"
   ]
  },
  {
   "cell_type": "code",
   "execution_count": 66,
   "metadata": {},
   "outputs": [],
   "source": [
    "# Note even sure how to go about this - also left it out of my final code\n",
    "\n",
    "import random\n",
    "def choose_first():\n",
    "    \n",
    "    if random.randint(0, 1) == 0:\n",
    "        return 'Player1'\n",
    "    else:\n",
    "        return 'Player2'"
   ]
  },
  {
   "cell_type": "code",
   "execution_count": null,
   "metadata": {},
   "outputs": [],
   "source": [
    "# Final code: putting it all together:\n",
    "\n",
    "def my_game():\n",
    "\n",
    "    print('Welcome to Tic Tac Toe!')\n",
    "    \n",
    "    board = ['#','','','','','','','','','']\n",
    "    \n",
    "            # player 1\n",
    "    display_board(board)\n",
    "        # display current empty board\n",
    "        \n",
    "        # interaction - get the X or O from both players\n",
    "    position1,position2,name1,name2 = player_input()\n",
    "        # have name and X or O\n",
    "    while gameon:\n",
    "\n",
    "        choice = player_choice(board)\n",
    "        # return int as player_input \n",
    "        if space_check(board,choice):\n",
    "            place_marker(board,position1,choice)\n",
    "            display_board(board)\n",
    "            \n",
    "        elif space_check(board,choice) == False:\n",
    "            print(\"No space open\")\n",
    "            display_board(board)\n",
    "            choice = player_choice(board)\n",
    "            place_marker(board,position1,choice)\n",
    "            display_board(board)\n",
    "            \n",
    "        else:\n",
    "            pass\n",
    "        \n",
    "        if win_check(board,position1):\n",
    "            print(f\"Congrats {name1}, you win!\")\n",
    "            break\n",
    "        else:\n",
    "            pass\n",
    "        \n",
    "        choice2 = player_choice(board)\n",
    "        if space_check(board,choice2):\n",
    "            place_marker(board,position2,choice2)\n",
    "            display_board(board)\n",
    "            \n",
    "        elif space_check(board,choice2) == False:\n",
    "            print(\"No space open\")\n",
    "            display_board(board)\n",
    "            choice2 = player_choice(board)\n",
    "            place_marker(board,position2,choice2)\n",
    "            display_board(board)\n",
    "            \n",
    "        else:\n",
    "            display_board(board)\n",
    "        \n",
    "        if win_check(board,position2):\n",
    "            print(f\"Congrats {name2}, you win!\")\n",
    "            break\n",
    "        else:\n",
    "            pass\n",
    "        \n",
    "        if full_board_check(board) == True:\n",
    "            print(\"It's a tie\")\n",
    "        elif full_board_check(board) == False:\n",
    "            pass\n",
    "        \n",
    "    if replay() == True:\n",
    "        print(\"Let's play again!\")\n",
    "        gameon = True\n",
    "    elif replay() == False:\n",
    "        print(\"Good bye\")\n",
    "        gameon = False\n",
    "    else:\n",
    "        pass"
   ]
  },
  {
   "cell_type": "code",
   "execution_count": 34,
   "metadata": {},
   "outputs": [
    {
     "name": "stdout",
     "output_type": "stream",
     "text": [
      "Welcome to Tic Tac Toe!\n",
      "||\n",
      "-----\n",
      "||\n",
      "-----\n",
      "||\n",
      "Hello Player 1, what is your name? M\n",
      "Hey Player 2, what shall I call you? F\n",
      "Hey M, Please choose either X or O X\n",
      "M: Your marker will be X\n",
      "F: Your marker will be O\n",
      "Please choose a position (1-9): 1\n",
      "||\n",
      "-----\n",
      "||\n",
      "-----\n",
      "X||\n",
      "Please choose a position (1-9): 2\n",
      "||\n",
      "-----\n",
      "||\n",
      "-----\n",
      "X|O|\n",
      "Please choose a position (1-9): 3\n",
      "||\n",
      "-----\n",
      "||\n",
      "-----\n",
      "X|O|X\n",
      "Please choose a position (1-9): 5\n",
      "||\n",
      "-----\n",
      "|O|\n",
      "-----\n",
      "X|O|X\n",
      "Please choose a position (1-9): 8\n",
      "|X|\n",
      "-----\n",
      "|O|\n",
      "-----\n",
      "X|O|X\n",
      "Please choose a position (1-9): 9\n",
      "|X|O\n",
      "-----\n",
      "|O|\n",
      "-----\n",
      "X|O|X\n",
      "Please choose a position (1-9): 7\n",
      "X|X|O\n",
      "-----\n",
      "|O|\n",
      "-----\n",
      "X|O|X\n",
      "Please choose a position (1-9): 6\n",
      "X|X|O\n",
      "-----\n",
      "|O|O\n",
      "-----\n",
      "X|O|X\n",
      "Please choose a position (1-9): 4\n",
      "X|X|O\n",
      "-----\n",
      "X|O|O\n",
      "-----\n",
      "X|O|X\n",
      "Congrats M, you win!\n",
      "It's a tie\n",
      "Would you like to keep playing? Yes or No? Yes\n",
      "Let's play again!\n"
     ]
    }
   ],
   "source": [
    "my_game()"
   ]
  },
  {
   "cell_type": "code",
   "execution_count": 92,
   "metadata": {},
   "outputs": [],
   "source": [
    "# New code\n",
    "            \n",
    "def my_game2():\n",
    "\n",
    "    print('Welcome to Tic Tac Toe!')\n",
    "\n",
    "    while True:\n",
    "    # Reset the board\n",
    "        theBoard = [' '] * 10\n",
    "        player1_marker, player2_marker,name1,name2 = player_input()\n",
    "        turn = choose_first()\n",
    "        if turn == 'Player1':\n",
    "            print(f'{name1} will go first')\n",
    "        else:\n",
    "            print(f'{name2} will go first')\n",
    "    \n",
    "        play_game = input('Are you ready to play? Enter Yes or No.')\n",
    "    \n",
    "        if play_game.lower()[0] == 'y':\n",
    "            game_on = True\n",
    "        else:\n",
    "            game_on = False\n",
    "\n",
    "        while game_on:\n",
    "            if turn == 'Player 1':\n",
    "            # Player1's turn.\n",
    "            \n",
    "                display_board(theBoard)\n",
    "                position1 = player_choice(theBoard)\n",
    "                if not space_check(theBoard,position1):\n",
    "                    print(f\"Sorry {name1}, that position is filled. Choose again!\")\n",
    "                    position1 = player_choice(theBoard)\n",
    "                else:\n",
    "                    pass\n",
    "                place_marker(theBoard, player1_marker, position1)\n",
    "\n",
    "                if win_check(theBoard, player1_marker):\n",
    "                    display_board(theBoard)\n",
    "                    print(f'Congratulations, {name1}! You have won the game!')\n",
    "                    game_on = False\n",
    "                else:\n",
    "                    if full_board_check(theBoard):\n",
    "                        display_board(theBoard)\n",
    "                        print('The game is a draw!')\n",
    "                        break\n",
    "                    else:\n",
    "                        turn = 'Player 2'\n",
    "\n",
    "            else:\n",
    "            # Player2's turn.\n",
    "            \n",
    "                display_board(theBoard)\n",
    "                position2 = player_choice(theBoard)\n",
    "                if not space_check(theBoard,position2):\n",
    "                    print(f\"Sorry {name2}, that position is filled. Choose again!\")\n",
    "                    position2 = player_choice(theBoard)\n",
    "                else:\n",
    "                    pass\n",
    "                place_marker(theBoard, player2_marker, position2)\n",
    "\n",
    "                if win_check(theBoard, player2_marker):\n",
    "                    display_board(theBoard)\n",
    "                    print(f'{name2} has won!')\n",
    "                    game_on = False\n",
    "                else:\n",
    "                    if full_board_check(theBoard):\n",
    "                        display_board(theBoard)\n",
    "                        print('The game is a draw!')\n",
    "                        break\n",
    "                    else:\n",
    "                        turn = 'Player 1'\n",
    "\n",
    "        if not replay():\n",
    "            print(\"Goodbye!\")\n",
    "            break"
   ]
  },
  {
   "cell_type": "code",
   "execution_count": 90,
   "metadata": {},
   "outputs": [
    {
     "name": "stdout",
     "output_type": "stream",
     "text": [
      " |X|O\n",
      "-----\n",
      "X| |O\n",
      "-----\n",
      "X|O|O\n",
      "Congratulations, m! You have won the game!\n",
      "Would you like to keep playing? Yes or No? No\n",
      "Goodbye!\n"
     ]
    }
   ],
   "source": [
    "my_game2()"
   ]
  },
  {
   "cell_type": "code",
   "execution_count": 64,
   "metadata": {},
   "outputs": [
    {
     "name": "stdout",
     "output_type": "stream",
     "text": [
      "Hello Player 1, what is your name? Michelle\n",
      "Hey Player 2, what shall I call you? Adriaan\n",
      "Hey Michelle, Please choose either X or O X\n",
      "Michelle: Your marker will be X\n",
      "Adriaan: Your marker will be O\n"
     ]
    },
    {
     "data": {
      "text/plain": [
       "'Michelle'"
      ]
     },
     "execution_count": 64,
     "metadata": {},
     "output_type": "execute_result"
    }
   ],
   "source": [
    "choose_first()"
   ]
  },
  {
   "cell_type": "code",
   "execution_count": 65,
   "metadata": {},
   "outputs": [
    {
     "name": "stdout",
     "output_type": "stream",
     "text": [
      "Hello Player 1, what is your name? bla\n",
      "Hey Player 2, what shall I call you? blabla\n",
      "Hey bla, Please choose either X or O O\n",
      "bla: Your marker will be O\n",
      "blabla: Your marker will be X\n"
     ]
    },
    {
     "data": {
      "text/plain": [
       "'blabla'"
      ]
     },
     "execution_count": 65,
     "metadata": {},
     "output_type": "execute_result"
    }
   ],
   "source": [
    "choose_first()"
   ]
  },
  {
   "cell_type": "code",
   "execution_count": 76,
   "metadata": {},
   "outputs": [
    {
     "name": "stdout",
     "output_type": "stream",
     "text": [
      "Welcome to Tic Tac Toe!\n",
      "Hello Player 1, what is your name? Michelle\n",
      "Hey Player 2, what shall I call you? Adriaan\n",
      "Hey Michelle, Please choose either X or O O\n",
      "Michelle: Your marker will be O\n",
      "Adriaan: Your marker will be X\n",
      "Adriaan will go first\n",
      "Are you ready to play? Enter Yes or No.Yes\n",
      " | | \n",
      "-----\n",
      " | | \n",
      "-----\n",
      " | | \n",
      "Please choose a position (1-9): 5\n",
      " | | \n",
      "-----\n",
      " |X| \n",
      "-----\n",
      " | | \n",
      "Please choose a position (1-9): 9\n",
      " | |O\n",
      "-----\n",
      " |X| \n",
      "-----\n",
      " | | \n",
      "Please choose a position (1-9): 6\n",
      " | |O\n",
      "-----\n",
      " |X|X\n",
      "-----\n",
      " | | \n",
      "Please choose a position (1-9): 4\n",
      " | |O\n",
      "-----\n",
      "O|X|X\n",
      "-----\n",
      " | | \n",
      "Please choose a position (1-9): 2\n",
      " | |O\n",
      "-----\n",
      "O|X|X\n",
      "-----\n",
      " |X| \n",
      "Please choose a position (1-9): 8\n",
      " |O|O\n",
      "-----\n",
      "O|X|X\n",
      "-----\n",
      " |X| \n",
      "Please choose a position (1-9): 7\n",
      "X|O|O\n",
      "-----\n",
      "O|X|X\n",
      "-----\n",
      " |X| \n",
      "Please choose a position (1-9): 3\n",
      "X|O|O\n",
      "-----\n",
      "O|X|X\n",
      "-----\n",
      " |X|O\n",
      "Please choose a position (1-9): 9\n",
      "X|O|X\n",
      "-----\n",
      "O|X|X\n",
      "-----\n",
      " |X|O\n",
      "Please choose a position (1-9): 1\n",
      "X|O|X\n",
      "-----\n",
      "O|X|X\n",
      "-----\n",
      "O|X|O\n",
      "The game is a draw!\n",
      "Would you like to keep playing? Yes or No? No\n"
     ]
    }
   ],
   "source": [
    "my_game2()"
   ]
  },
  {
   "cell_type": "code",
   "execution_count": 93,
   "metadata": {},
   "outputs": [
    {
     "name": "stdout",
     "output_type": "stream",
     "text": [
      "X|O|O\n",
      "-----\n",
      "X|X|O\n",
      "-----\n",
      "O|X|O\n",
      "Congratulations, Michelle! You have won the game!\n",
      "Would you like to keep playing? Yes or No? No\n",
      "Goodbye!\n"
     ]
    }
   ],
   "source": [
    "my_game2()"
   ]
  },
  {
   "cell_type": "code",
   "execution_count": null,
   "metadata": {},
   "outputs": [],
   "source": []
  }
 ],
 "metadata": {
  "kernelspec": {
   "display_name": "Python 3",
   "language": "python",
   "name": "python3"
  },
  "language_info": {
   "codemirror_mode": {
    "name": "ipython",
    "version": 3
   },
   "file_extension": ".py",
   "mimetype": "text/x-python",
   "name": "python",
   "nbconvert_exporter": "python",
   "pygments_lexer": "ipython3",
   "version": "3.8.10"
  }
 },
 "nbformat": 4,
 "nbformat_minor": 4
}
